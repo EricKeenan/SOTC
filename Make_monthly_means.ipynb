{
 "cells": [
  {
   "cell_type": "markdown",
   "metadata": {},
   "source": [
    "# Calculate monthly means from hourly data"
   ]
  },
  {
   "cell_type": "code",
   "execution_count": 5,
   "metadata": {},
   "outputs": [],
   "source": [
    "%matplotlib inline\n",
    "from dask.distributed import Client\n",
    "import dask\n",
    "import xarray as xr\n",
    "import time\n",
    "import os"
   ]
  },
  {
   "cell_type": "markdown",
   "metadata": {},
   "source": [
    "# Spawn a `dask` cluster"
   ]
  },
  {
   "cell_type": "code",
   "execution_count": 2,
   "metadata": {},
   "outputs": [],
   "source": [
    "from dask_jobqueue import SLURMCluster\n",
    "ncpu=24\n",
    "cluster = SLURMCluster(cores=ncpu,\n",
    "        processes=ncpu,\n",
    "        memory=\"116.16GB\",\n",
    "        walltime=\"00:10:00\",\n",
    "        project='ucb164_summit1',\n",
    "        queue=\"shas-testing\") # Or use shas\n",
    "cluster.scale(jobs=1)\n",
    "\n",
    "from dask.distributed import Client\n",
    "client = Client(cluster)"
   ]
  },
  {
   "cell_type": "code",
   "execution_count": 9,
   "metadata": {},
   "outputs": [
    {
     "data": {
      "text/html": [
       "<table style=\"border: 2px solid white;\">\n",
       "<tr>\n",
       "<td style=\"vertical-align: top; border: 0px solid white\">\n",
       "<h3 style=\"text-align: left;\">Client</h3>\n",
       "<ul style=\"text-align: left; list-style: none; margin: 0; padding: 0;\">\n",
       "  <li><b>Scheduler: </b>tcp://10.225.5.217:39306</li>\n",
       "  <li><b>Dashboard: </b><a href='http://10.225.5.217:8787/status' target='_blank'>http://10.225.5.217:8787/status</a></li>\n",
       "</ul>\n",
       "</td>\n",
       "<td style=\"vertical-align: top; border: 0px solid white\">\n",
       "<h3 style=\"text-align: left;\">Cluster</h3>\n",
       "<ul style=\"text-align: left; list-style:none; margin: 0; padding: 0;\">\n",
       "  <li><b>Workers: </b>0</li>\n",
       "  <li><b>Cores: </b>0</li>\n",
       "  <li><b>Memory: </b>0 B</li>\n",
       "</ul>\n",
       "</td>\n",
       "</tr>\n",
       "</table>"
      ],
      "text/plain": [
       "<Client: 'tcp://10.225.5.217:39306' processes=24 threads=24, memory=116.16 GB>"
      ]
     },
     "execution_count": 9,
     "metadata": {},
     "output_type": "execute_result"
    },
    {
     "name": "stderr",
     "output_type": "stream",
     "text": [
      "distributed.client - ERROR - Failed to reconnect to scheduler after 10.00 seconds, closing client\n",
      "_GatheringFuture exception was never retrieved\n",
      "future: <_GatheringFuture finished exception=CancelledError()>\n",
      "concurrent.futures._base.CancelledError\n"
     ]
    }
   ],
   "source": [
    "client"
   ]
  },
  {
   "cell_type": "markdown",
   "metadata": {},
   "source": [
    "# Calculate monthly means as a embarrassingly parallel problem using `dask`."
   ]
  },
  {
   "cell_type": "code",
   "execution_count": 4,
   "metadata": {},
   "outputs": [],
   "source": [
    "src_directory = \"/scratch/summit/erke2265/MERRA2/\"\n",
    "tgt_directory = \"/scratch/summit/erke2265/MERRA2_monthly/\"\n",
    "!rm /scratch/summit/erke2265/MERRA2_monthly/*\n",
    "\n",
    "def calc_monthly_mean(src_directory, tgt_directory, filename):\n",
    "    print(filename)\n",
    "    src_path = src_directory + filename\n",
    "    tgt_path = tgt_directory + filename.replace(\"hourly\", \"monthly\")  \n",
    "    \n",
    "    ds = xr.open_dataset(src_path)\n",
    "    ds_sorted = ds.sortby('time', ascending=True)\n",
    "    monthly_mean = ds_sorted.groupby('time.month').mean()\n",
    "    monthly_mean.to_netcdf(path=tgt_path)\n",
    "\n",
    "results_interim = {}\n",
    "for filename in os.listdir(src_directory):\n",
    "    results_interim[filename] = dask.delayed(calc_monthly_mean)(src_directory, tgt_directory, filename)\n",
    "\n",
    "results_scheduled = dask.delayed(list)(results_interim)\n",
    "results = results_scheduled.compute()"
   ]
  },
  {
   "cell_type": "code",
   "execution_count": 8,
   "metadata": {},
   "outputs": [],
   "source": [
    "client.shutdown()"
   ]
  }
 ],
 "metadata": {
  "kernelspec": {
   "display_name": "parallel",
   "language": "python",
   "name": "parallel"
  },
  "language_info": {
   "codemirror_mode": {
    "name": "ipython",
    "version": 3
   },
   "file_extension": ".py",
   "mimetype": "text/x-python",
   "name": "python",
   "nbconvert_exporter": "python",
   "pygments_lexer": "ipython3",
   "version": "3.6.12"
  }
 },
 "nbformat": 4,
 "nbformat_minor": 4
}
